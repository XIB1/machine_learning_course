{
 "cells": [
  {
   "cell_type": "code",
   "execution_count": 31,
   "metadata": {},
   "outputs": [],
   "source": [
    "import pandas as pd\n",
    "import numpy as np\n",
    "from sklearn.linear_model import LogisticRegression\n",
    "from sklearn.feature_extraction.text import TfidfVectorizer\n",
    "from sklearn.model_selection import train_test_split\n",
    "from sklearn.metrics import accuracy_score, roc_auc_score, classification_report, roc_curve, auc\n",
    "import nltk\n",
    "from nltk.stem import WordNetLemmatizer\n",
    "from nltk.tokenize import word_tokenize\n",
    "import re\n",
    "import matplotlib.pyplot as plt\n",
    "import tensorflow as tf\n",
    "from tensorflow.keras.models import Sequential\n",
    "from tensorflow.keras.layers import Dense, Embedding, Flatten, LSTM\n",
    "from tensorflow.keras.utils import to_categorical\n",
    "from tensorflow.keras.callbacks import EarlyStopping\n",
    "from tensorflow.keras.preprocessing.text import Tokenizer\n",
    "from tensorflow.keras.preprocessing.sequence import pad_sequences\n",
    "from transformers import BertTokenizer\n",
    "import lightgbm as lgb"
   ]
  },
  {
   "cell_type": "code",
   "execution_count": 32,
   "metadata": {},
   "outputs": [
    {
     "name": "stderr",
     "output_type": "stream",
     "text": [
      "[nltk_data] Downloading package wordnet to\n",
      "[nltk_data]     C:\\Users\\fredd\\AppData\\Roaming\\nltk_data...\n",
      "[nltk_data]   Package wordnet is already up-to-date!\n",
      "[nltk_data] Downloading package punkt to\n",
      "[nltk_data]     C:\\Users\\fredd\\AppData\\Roaming\\nltk_data...\n",
      "[nltk_data]   Package punkt is already up-to-date!\n"
     ]
    },
    {
     "data": {
      "text/plain": [
       "True"
      ]
     },
     "execution_count": 32,
     "metadata": {},
     "output_type": "execute_result"
    }
   ],
   "source": [
    "nltk.download('wordnet')\n",
    "nltk.download('punkt')"
   ]
  },
  {
   "cell_type": "code",
   "execution_count": 75,
   "metadata": {},
   "outputs": [],
   "source": [
    "df = pd.read_csv('data.tsv', sep='\\t')"
   ]
  },
  {
   "cell_type": "code",
   "execution_count": 76,
   "metadata": {},
   "outputs": [
    {
     "name": "stdout",
     "output_type": "stream",
     "text": [
      "<class 'pandas.core.frame.DataFrame'>\n",
      "RangeIndex: 160000 entries, 0 to 159999\n",
      "Data columns (total 2 columns):\n",
      " #   Column           Non-Null Count   Dtype \n",
      "---  ------           --------------   ----- \n",
      " 0   sentiment_label  160000 non-null  int64 \n",
      " 1   tweet_text       160000 non-null  object\n",
      "dtypes: int64(1), object(1)\n",
      "memory usage: 2.4+ MB\n"
     ]
    }
   ],
   "source": [
    "df.info()"
   ]
  },
  {
   "cell_type": "code",
   "execution_count": 77,
   "metadata": {},
   "outputs": [
    {
     "data": {
      "text/html": [
       "<div>\n",
       "<style scoped>\n",
       "    .dataframe tbody tr th:only-of-type {\n",
       "        vertical-align: middle;\n",
       "    }\n",
       "\n",
       "    .dataframe tbody tr th {\n",
       "        vertical-align: top;\n",
       "    }\n",
       "\n",
       "    .dataframe thead th {\n",
       "        text-align: right;\n",
       "    }\n",
       "</style>\n",
       "<table border=\"1\" class=\"dataframe\">\n",
       "  <thead>\n",
       "    <tr style=\"text-align: right;\">\n",
       "      <th></th>\n",
       "      <th>sentiment_label</th>\n",
       "      <th>tweet_text</th>\n",
       "    </tr>\n",
       "  </thead>\n",
       "  <tbody>\n",
       "    <tr>\n",
       "      <th>0</th>\n",
       "      <td>4</td>\n",
       "      <td>@elephantbird Hey dear, Happy Friday to You  A...</td>\n",
       "    </tr>\n",
       "    <tr>\n",
       "      <th>1</th>\n",
       "      <td>4</td>\n",
       "      <td>Ughhh layin downnnn    Waiting for zeina to co...</td>\n",
       "    </tr>\n",
       "    <tr>\n",
       "      <th>2</th>\n",
       "      <td>0</td>\n",
       "      <td>@greeniebach I reckon he'll play, even if he's...</td>\n",
       "    </tr>\n",
       "    <tr>\n",
       "      <th>3</th>\n",
       "      <td>0</td>\n",
       "      <td>@vaLewee I know!  Saw it on the news!</td>\n",
       "    </tr>\n",
       "    <tr>\n",
       "      <th>4</th>\n",
       "      <td>0</td>\n",
       "      <td>very sad that http://www.fabchannel.com/ has c...</td>\n",
       "    </tr>\n",
       "  </tbody>\n",
       "</table>\n",
       "</div>"
      ],
      "text/plain": [
       "   sentiment_label                                         tweet_text\n",
       "0                4  @elephantbird Hey dear, Happy Friday to You  A...\n",
       "1                4  Ughhh layin downnnn    Waiting for zeina to co...\n",
       "2                0  @greeniebach I reckon he'll play, even if he's...\n",
       "3                0              @vaLewee I know!  Saw it on the news!\n",
       "4                0  very sad that http://www.fabchannel.com/ has c..."
      ]
     },
     "execution_count": 77,
     "metadata": {},
     "output_type": "execute_result"
    }
   ],
   "source": [
    "df.head()"
   ]
  },
  {
   "cell_type": "code",
   "execution_count": 78,
   "metadata": {},
   "outputs": [
    {
     "data": {
      "text/plain": [
       "4    80000\n",
       "0    80000\n",
       "Name: sentiment_label, dtype: int64"
      ]
     },
     "execution_count": 78,
     "metadata": {},
     "output_type": "execute_result"
    }
   ],
   "source": [
    "df['sentiment_label'].value_counts()"
   ]
  },
  {
   "cell_type": "code",
   "execution_count": 79,
   "metadata": {},
   "outputs": [],
   "source": [
    "pattern = r'https?://[^\\s]+|www\\.[^\\s]+|\\.[a-z]{2,}'\n",
    "df['tweet_text'] = df['tweet_text'].apply(lambda x: re.sub(pattern, ' ', x).lower())"
   ]
  },
  {
   "cell_type": "code",
   "execution_count": 81,
   "metadata": {},
   "outputs": [],
   "source": [
    "pattern = r'[^a-zA-Z0-9\\s]'\n",
    "df['tweet_text'] = df['tweet_text'].apply(lambda x: re.sub(pattern, '', x))"
   ]
  },
  {
   "cell_type": "code",
   "execution_count": 88,
   "metadata": {},
   "outputs": [],
   "source": [
    "pattern = r'(.)\\1{2,}'\n",
    "df['tweet_text'] = df['tweet_text'].apply(lambda x: re.sub(pattern, r'\\1\\1', x))"
   ]
  },
  {
   "cell_type": "code",
   "execution_count": 83,
   "metadata": {},
   "outputs": [],
   "source": [
    "lemmatizer = WordNetLemmatizer()"
   ]
  },
  {
   "cell_type": "code",
   "execution_count": 84,
   "metadata": {},
   "outputs": [],
   "source": [
    "def lemm(text):\n",
    "    words = word_tokenize(text)\n",
    "    lemm_words = [lemmatizer.lemmatize(word) for word in words]\n",
    "    return lemm_words"
   ]
  },
  {
   "cell_type": "code",
   "execution_count": 85,
   "metadata": {},
   "outputs": [],
   "source": [
    "df['tweet_text'] = df['tweet_text'].apply(lemm)"
   ]
  },
  {
   "cell_type": "code",
   "execution_count": 86,
   "metadata": {},
   "outputs": [],
   "source": [
    "df['tweet_text'] = df['tweet_text'].apply(lambda x: ' '.join(x))"
   ]
  },
  {
   "cell_type": "markdown",
   "metadata": {},
   "source": [
    "for i in df.iterrows():\n",
    "    print(i[1][1])"
   ]
  },
  {
   "cell_type": "code",
   "execution_count": 90,
   "metadata": {},
   "outputs": [],
   "source": [
    "df['sentiment_label'] = df['sentiment_label'].apply(lambda x: 1 if x == 4 else 0)"
   ]
  },
  {
   "cell_type": "code",
   "execution_count": null,
   "metadata": {},
   "outputs": [],
   "source": []
  },
  {
   "cell_type": "code",
   "execution_count": 91,
   "metadata": {},
   "outputs": [],
   "source": [
    "X = df['tweet_text']\n",
    "y = df['sentiment_label']\n",
    "X_train, X_test, y_train, y_test = train_test_split(X, y, test_size=0.2, random_state=99)"
   ]
  },
  {
   "cell_type": "code",
   "execution_count": 92,
   "metadata": {},
   "outputs": [],
   "source": [
    "tfidf_vectorizer = TfidfVectorizer()"
   ]
  },
  {
   "cell_type": "code",
   "execution_count": 93,
   "metadata": {},
   "outputs": [],
   "source": [
    "X_train = tfidf_vectorizer.fit_transform(X_train)\n",
    "X_test = tfidf_vectorizer.transform(X_test)"
   ]
  },
  {
   "cell_type": "code",
   "execution_count": 94,
   "metadata": {},
   "outputs": [],
   "source": [
    "regressor = LogisticRegression()"
   ]
  },
  {
   "cell_type": "code",
   "execution_count": 95,
   "metadata": {},
   "outputs": [],
   "source": [
    "regressor.fit(X_train, y_train)\n",
    "y_pred = regressor.predict(X_test)\n",
    "y_prob = regressor.predict_proba(X_test)[:, 1]"
   ]
  },
  {
   "cell_type": "code",
   "execution_count": 96,
   "metadata": {},
   "outputs": [
    {
     "name": "stdout",
     "output_type": "stream",
     "text": [
      "\n",
      "\n",
      "Accuracy: 0.78590625 \n",
      "\n",
      "ROC: 0.7859069146235456 \n",
      "\n",
      "Classification report:\n",
      "               precision    recall  f1-score   support\n",
      "\n",
      "           0       0.79      0.78      0.78     16002\n",
      "           1       0.78      0.79      0.79     15998\n",
      "\n",
      "    accuracy                           0.79     32000\n",
      "   macro avg       0.79      0.79      0.79     32000\n",
      "weighted avg       0.79      0.79      0.79     32000\n",
      "\n"
     ]
    }
   ],
   "source": [
    "print(\"\\n\\nAccuracy:\", accuracy_score(y_test, y_pred), \"\\n\\nROC:\", roc_auc_score(y_test, y_pred), \"\\n\\nClassification report:\\n\", classification_report(y_test, y_pred))"
   ]
  },
  {
   "cell_type": "code",
   "execution_count": null,
   "metadata": {},
   "outputs": [],
   "source": []
  },
  {
   "cell_type": "code",
   "execution_count": 97,
   "metadata": {},
   "outputs": [],
   "source": [
    "train_data = lgb.Dataset(X_train, label=y_train)\n",
    "test_data = lgb.Dataset(X_test, label=y_test, reference=train_data)"
   ]
  },
  {
   "cell_type": "code",
   "execution_count": 98,
   "metadata": {},
   "outputs": [],
   "source": [
    "params = {\n",
    "    'objective': 'binary',\n",
    "    'metric': 'binary_logloss',\n",
    "    'learning_rate': 0.05,\n",
    "    'num_leaves': 100,\n",
    "}"
   ]
  },
  {
   "cell_type": "code",
   "execution_count": 99,
   "metadata": {},
   "outputs": [
    {
     "name": "stdout",
     "output_type": "stream",
     "text": [
      "[LightGBM] [Info] Number of positive: 64002, number of negative: 63998\n",
      "[LightGBM] [Info] Auto-choosing row-wise multi-threading, the overhead of testing was 0.670799 seconds.\n",
      "You can set `force_row_wise=true` to remove the overhead.\n",
      "And if memory is not enough, you can set `force_col_wise=true`.\n",
      "[LightGBM] [Info] Total Bins 208420\n",
      "[LightGBM] [Info] Number of data points in the train set: 128000, number of used features: 4321\n",
      "[LightGBM] [Info] [binary:BoostFromScore]: pavg=0.500016 -> initscore=0.000063\n",
      "[LightGBM] [Info] Start training from score 0.000063\n",
      "Training until validation scores don't improve for 50 rounds\n",
      "Did not meet early stopping. Best iteration is:\n",
      "[498]\ttraining's binary_logloss: 0.364439\tvalid_1's binary_logloss: 0.454697\n"
     ]
    }
   ],
   "source": [
    "model_lgb = lgb.train(params, train_data, valid_sets=[train_data, test_data], num_boost_round=500, callbacks=[lgb.early_stopping(stopping_rounds=50)])\n",
    "y_pred = model_lgb.predict(X_test, num_iteration=model_lgb.best_iteration)"
   ]
  },
  {
   "cell_type": "code",
   "execution_count": 100,
   "metadata": {},
   "outputs": [],
   "source": [
    "y_pred_binary = (y_pred >= 0.5).astype(int)"
   ]
  },
  {
   "cell_type": "code",
   "execution_count": 103,
   "metadata": {},
   "outputs": [],
   "source": [
    "def train_and_predict(params, train_data, test_data):\n",
    "    \n",
    "    model_lgb = lgb.train(params, train_data, valid_sets=[train_data, test_data], num_boost_round=500, callbacks=[lgb.early_stopping(stopping_rounds=50)])\n",
    "\n",
    "    y_pred = model_lgb.predict(X_test, num_iteration=model_lgb.best_iteration)\n",
    "\n",
    "    y_pred_binary = (y_pred >= 0.5).astype(int)\n",
    "\n",
    "    accuracy = accuracy_score(y_test, y_pred_binary)\n",
    "    roc_auc = roc_auc_score(y_test, y_pred)\n",
    "\n",
    "    return (accuracy, roc_auc, y_test, y_pred)"
   ]
  },
  {
   "cell_type": "code",
   "execution_count": 104,
   "metadata": {},
   "outputs": [
    {
     "name": "stdout",
     "output_type": "stream",
     "text": [
      "[LightGBM] [Info] Number of positive: 64002, number of negative: 63998\n",
      "[LightGBM] [Info] Auto-choosing row-wise multi-threading, the overhead of testing was 0.798476 seconds.\n",
      "You can set `force_row_wise=true` to remove the overhead.\n",
      "And if memory is not enough, you can set `force_col_wise=true`.\n",
      "[LightGBM] [Info] Total Bins 208420\n",
      "[LightGBM] [Info] Number of data points in the train set: 128000, number of used features: 4321\n",
      "[LightGBM] [Info] [binary:BoostFromScore]: pavg=0.500016 -> initscore=0.000063\n",
      "[LightGBM] [Info] Start training from score 0.000063\n",
      "Training until validation scores don't improve for 50 rounds\n",
      "Did not meet early stopping. Best iteration is:\n",
      "[500]\ttraining's binary_logloss: 0.511789\tvalid_1's binary_logloss: 0.520198\n",
      "[LightGBM] [Info] Number of positive: 64002, number of negative: 63998\n",
      "[LightGBM] [Info] Auto-choosing col-wise multi-threading, the overhead of testing was 0.607969 seconds.\n",
      "You can set `force_col_wise=true` to remove the overhead.\n",
      "[LightGBM] [Info] Total Bins 208420\n",
      "[LightGBM] [Info] Number of data points in the train set: 128000, number of used features: 4321\n",
      "[LightGBM] [Info] [binary:BoostFromScore]: pavg=0.500016 -> initscore=0.000063\n",
      "[LightGBM] [Info] Start training from score 0.000063\n",
      "Training until validation scores don't improve for 50 rounds\n",
      "Did not meet early stopping. Best iteration is:\n",
      "[500]\ttraining's binary_logloss: 0.419088\tvalid_1's binary_logloss: 0.463023\n",
      "[LightGBM] [Info] Number of positive: 64002, number of negative: 63998\n",
      "[LightGBM] [Info] Auto-choosing row-wise multi-threading, the overhead of testing was 0.672004 seconds.\n",
      "You can set `force_row_wise=true` to remove the overhead.\n",
      "And if memory is not enough, you can set `force_col_wise=true`.\n",
      "[LightGBM] [Info] Total Bins 208420\n",
      "[LightGBM] [Info] Number of data points in the train set: 128000, number of used features: 4321\n",
      "[LightGBM] [Info] [binary:BoostFromScore]: pavg=0.500016 -> initscore=0.000063\n",
      "[LightGBM] [Info] Start training from score 0.000063\n",
      "Training until validation scores don't improve for 50 rounds\n",
      "Did not meet early stopping. Best iteration is:\n",
      "[499]\ttraining's binary_logloss: 0.381124\tvalid_1's binary_logloss: 0.458136\n",
      "[LightGBM] [Info] Number of positive: 64002, number of negative: 63998\n",
      "[LightGBM] [Info] Auto-choosing col-wise multi-threading, the overhead of testing was 0.605343 seconds.\n",
      "You can set `force_col_wise=true` to remove the overhead.\n",
      "[LightGBM] [Info] Total Bins 208420\n",
      "[LightGBM] [Info] Number of data points in the train set: 128000, number of used features: 4321\n",
      "[LightGBM] [Info] [binary:BoostFromScore]: pavg=0.500016 -> initscore=0.000063\n",
      "[LightGBM] [Info] Start training from score 0.000063\n",
      "Training until validation scores don't improve for 50 rounds\n",
      "Early stopping, best iteration is:\n",
      "[395]\ttraining's binary_logloss: 0.370889\tvalid_1's binary_logloss: 0.458505\n",
      "[LightGBM] [Info] Number of positive: 64002, number of negative: 63998\n",
      "[LightGBM] [Info] Auto-choosing col-wise multi-threading, the overhead of testing was 0.603508 seconds.\n",
      "You can set `force_col_wise=true` to remove the overhead.\n",
      "[LightGBM] [Info] Total Bins 208420\n",
      "[LightGBM] [Info] Number of data points in the train set: 128000, number of used features: 4321\n",
      "[LightGBM] [Info] [binary:BoostFromScore]: pavg=0.500016 -> initscore=0.000063\n",
      "[LightGBM] [Info] Start training from score 0.000063\n",
      "Training until validation scores don't improve for 50 rounds\n",
      "Early stopping, best iteration is:\n",
      "[282]\ttraining's binary_logloss: 0.37664\tvalid_1's binary_logloss: 0.459977\n",
      "[LightGBM] [Info] Number of positive: 64002, number of negative: 63998\n",
      "[LightGBM] [Info] Auto-choosing col-wise multi-threading, the overhead of testing was 0.603954 seconds.\n",
      "You can set `force_col_wise=true` to remove the overhead.\n",
      "[LightGBM] [Info] Total Bins 208420\n",
      "[LightGBM] [Info] Number of data points in the train set: 128000, number of used features: 4321\n",
      "[LightGBM] [Info] [binary:BoostFromScore]: pavg=0.500016 -> initscore=0.000063\n",
      "[LightGBM] [Info] Start training from score 0.000063\n",
      "Training until validation scores don't improve for 50 rounds\n",
      "Early stopping, best iteration is:\n",
      "[234]\ttraining's binary_logloss: 0.374143\tvalid_1's binary_logloss: 0.461806\n",
      "[LightGBM] [Info] Number of positive: 64002, number of negative: 63998\n",
      "[LightGBM] [Info] Auto-choosing row-wise multi-threading, the overhead of testing was 0.611143 seconds.\n",
      "You can set `force_row_wise=true` to remove the overhead.\n",
      "And if memory is not enough, you can set `force_col_wise=true`.\n",
      "[LightGBM] [Info] Total Bins 208420\n",
      "[LightGBM] [Info] Number of data points in the train set: 128000, number of used features: 4321\n",
      "[LightGBM] [Info] [binary:BoostFromScore]: pavg=0.500016 -> initscore=0.000063\n",
      "[LightGBM] [Info] Start training from score 0.000063\n",
      "Training until validation scores don't improve for 50 rounds\n",
      "Did not meet early stopping. Best iteration is:\n",
      "[500]\ttraining's binary_logloss: 0.492607\tvalid_1's binary_logloss: 0.505634\n",
      "[LightGBM] [Info] Number of positive: 64002, number of negative: 63998\n",
      "[LightGBM] [Info] Auto-choosing row-wise multi-threading, the overhead of testing was 0.597163 seconds.\n",
      "You can set `force_row_wise=true` to remove the overhead.\n",
      "And if memory is not enough, you can set `force_col_wise=true`.\n",
      "[LightGBM] [Info] Total Bins 208420\n",
      "[LightGBM] [Info] Number of data points in the train set: 128000, number of used features: 4321\n",
      "[LightGBM] [Info] [binary:BoostFromScore]: pavg=0.500016 -> initscore=0.000063\n",
      "[LightGBM] [Info] Start training from score 0.000063\n",
      "Training until validation scores don't improve for 50 rounds\n",
      "Did not meet early stopping. Best iteration is:\n",
      "[500]\ttraining's binary_logloss: 0.391475\tvalid_1's binary_logloss: 0.457955\n",
      "[LightGBM] [Info] Number of positive: 64002, number of negative: 63998\n",
      "[LightGBM] [Info] Auto-choosing row-wise multi-threading, the overhead of testing was 0.624873 seconds.\n",
      "You can set `force_row_wise=true` to remove the overhead.\n",
      "And if memory is not enough, you can set `force_col_wise=true`.\n",
      "[LightGBM] [Info] Total Bins 208420\n",
      "[LightGBM] [Info] Number of data points in the train set: 128000, number of used features: 4321\n",
      "[LightGBM] [Info] [binary:BoostFromScore]: pavg=0.500016 -> initscore=0.000063\n",
      "[LightGBM] [Info] Start training from score 0.000063\n",
      "Training until validation scores don't improve for 50 rounds\n",
      "Early stopping, best iteration is:\n",
      "[421]\ttraining's binary_logloss: 0.359683\tvalid_1's binary_logloss: 0.456202\n",
      "[LightGBM] [Info] Number of positive: 64002, number of negative: 63998\n",
      "[LightGBM] [Info] Auto-choosing row-wise multi-threading, the overhead of testing was 0.730013 seconds.\n",
      "You can set `force_row_wise=true` to remove the overhead.\n",
      "And if memory is not enough, you can set `force_col_wise=true`.\n",
      "[LightGBM] [Info] Total Bins 208420\n",
      "[LightGBM] [Info] Number of data points in the train set: 128000, number of used features: 4321\n",
      "[LightGBM] [Info] [binary:BoostFromScore]: pavg=0.500016 -> initscore=0.000063\n",
      "[LightGBM] [Info] Start training from score 0.000063\n",
      "Training until validation scores don't improve for 50 rounds\n",
      "Early stopping, best iteration is:\n",
      "[243]\ttraining's binary_logloss: 0.373206\tvalid_1's binary_logloss: 0.458218\n",
      "[LightGBM] [Info] Number of positive: 64002, number of negative: 63998\n",
      "[LightGBM] [Info] Auto-choosing col-wise multi-threading, the overhead of testing was 0.686075 seconds.\n",
      "You can set `force_col_wise=true` to remove the overhead.\n",
      "[LightGBM] [Info] Total Bins 208420\n",
      "[LightGBM] [Info] Number of data points in the train set: 128000, number of used features: 4321\n",
      "[LightGBM] [Info] [binary:BoostFromScore]: pavg=0.500016 -> initscore=0.000063\n",
      "[LightGBM] [Info] Start training from score 0.000063\n",
      "Training until validation scores don't improve for 50 rounds\n",
      "Early stopping, best iteration is:\n",
      "[204]\ttraining's binary_logloss: 0.366294\tvalid_1's binary_logloss: 0.458796\n",
      "[LightGBM] [Info] Number of positive: 64002, number of negative: 63998\n",
      "[LightGBM] [Info] Auto-choosing col-wise multi-threading, the overhead of testing was 0.620976 seconds.\n",
      "You can set `force_col_wise=true` to remove the overhead.\n",
      "[LightGBM] [Info] Total Bins 208420\n",
      "[LightGBM] [Info] Number of data points in the train set: 128000, number of used features: 4321\n",
      "[LightGBM] [Info] [binary:BoostFromScore]: pavg=0.500016 -> initscore=0.000063\n",
      "[LightGBM] [Info] Start training from score 0.000063\n",
      "Training until validation scores don't improve for 50 rounds\n",
      "Early stopping, best iteration is:\n",
      "[131]\ttraining's binary_logloss: 0.384438\tvalid_1's binary_logloss: 0.461042\n",
      "[LightGBM] [Info] Number of positive: 64002, number of negative: 63998\n",
      "[LightGBM] [Info] Auto-choosing col-wise multi-threading, the overhead of testing was 0.603602 seconds.\n",
      "You can set `force_col_wise=true` to remove the overhead.\n",
      "[LightGBM] [Info] Total Bins 208420\n",
      "[LightGBM] [Info] Number of data points in the train set: 128000, number of used features: 4321\n",
      "[LightGBM] [Info] [binary:BoostFromScore]: pavg=0.500016 -> initscore=0.000063\n",
      "[LightGBM] [Info] Start training from score 0.000063\n",
      "Training until validation scores don't improve for 50 rounds\n",
      "Did not meet early stopping. Best iteration is:\n",
      "[500]\ttraining's binary_logloss: 0.478752\tvalid_1's binary_logloss: 0.496186\n",
      "[LightGBM] [Info] Number of positive: 64002, number of negative: 63998\n",
      "[LightGBM] [Info] Auto-choosing row-wise multi-threading, the overhead of testing was 0.668249 seconds.\n",
      "You can set `force_row_wise=true` to remove the overhead.\n",
      "And if memory is not enough, you can set `force_col_wise=true`.\n",
      "[LightGBM] [Info] Total Bins 208420\n",
      "[LightGBM] [Info] Number of data points in the train set: 128000, number of used features: 4321\n",
      "[LightGBM] [Info] [binary:BoostFromScore]: pavg=0.500016 -> initscore=0.000063\n",
      "[LightGBM] [Info] Start training from score 0.000063\n",
      "Training until validation scores don't improve for 50 rounds\n",
      "Did not meet early stopping. Best iteration is:\n",
      "[500]\ttraining's binary_logloss: 0.368762\tvalid_1's binary_logloss: 0.455764\n",
      "[LightGBM] [Info] Number of positive: 64002, number of negative: 63998\n",
      "[LightGBM] [Info] Auto-choosing row-wise multi-threading, the overhead of testing was 0.607015 seconds.\n",
      "You can set `force_row_wise=true` to remove the overhead.\n",
      "And if memory is not enough, you can set `force_col_wise=true`.\n",
      "[LightGBM] [Info] Total Bins 208420\n",
      "[LightGBM] [Info] Number of data points in the train set: 128000, number of used features: 4321\n",
      "[LightGBM] [Info] [binary:BoostFromScore]: pavg=0.500016 -> initscore=0.000063\n",
      "[LightGBM] [Info] Start training from score 0.000063\n",
      "Training until validation scores don't improve for 50 rounds\n",
      "Early stopping, best iteration is:\n",
      "[295]\ttraining's binary_logloss: 0.362748\tvalid_1's binary_logloss: 0.455101\n",
      "[LightGBM] [Info] Number of positive: 64002, number of negative: 63998\n",
      "[LightGBM] [Info] Auto-choosing col-wise multi-threading, the overhead of testing was 0.641297 seconds.\n",
      "You can set `force_col_wise=true` to remove the overhead.\n",
      "[LightGBM] [Info] Total Bins 208420\n",
      "[LightGBM] [Info] Number of data points in the train set: 128000, number of used features: 4321\n",
      "[LightGBM] [Info] [binary:BoostFromScore]: pavg=0.500016 -> initscore=0.000063\n",
      "[LightGBM] [Info] Start training from score 0.000063\n",
      "Training until validation scores don't improve for 50 rounds\n",
      "Early stopping, best iteration is:\n",
      "[169]\ttraining's binary_logloss: 0.376976\tvalid_1's binary_logloss: 0.458278\n",
      "[LightGBM] [Info] Number of positive: 64002, number of negative: 63998\n",
      "[LightGBM] [Info] Auto-choosing col-wise multi-threading, the overhead of testing was 0.598948 seconds.\n",
      "You can set `force_col_wise=true` to remove the overhead.\n",
      "[LightGBM] [Info] Total Bins 208420\n",
      "[LightGBM] [Info] Number of data points in the train set: 128000, number of used features: 4321\n",
      "[LightGBM] [Info] [binary:BoostFromScore]: pavg=0.500016 -> initscore=0.000063\n",
      "[LightGBM] [Info] Start training from score 0.000063\n",
      "Training until validation scores don't improve for 50 rounds\n",
      "Early stopping, best iteration is:\n",
      "[131]\ttraining's binary_logloss: 0.375518\tvalid_1's binary_logloss: 0.459327\n",
      "[LightGBM] [Info] Number of positive: 64002, number of negative: 63998\n",
      "[LightGBM] [Info] Auto-choosing col-wise multi-threading, the overhead of testing was 0.626397 seconds.\n",
      "You can set `force_col_wise=true` to remove the overhead.\n",
      "[LightGBM] [Info] Total Bins 208420\n",
      "[LightGBM] [Info] Number of data points in the train set: 128000, number of used features: 4321\n",
      "[LightGBM] [Info] [binary:BoostFromScore]: pavg=0.500016 -> initscore=0.000063\n",
      "[LightGBM] [Info] Start training from score 0.000063\n",
      "Training until validation scores don't improve for 50 rounds\n",
      "Early stopping, best iteration is:\n",
      "[101]\ttraining's binary_logloss: 0.380252\tvalid_1's binary_logloss: 0.459915\n",
      "[LightGBM] [Info] Number of positive: 64002, number of negative: 63998\n",
      "[LightGBM] [Info] Auto-choosing col-wise multi-threading, the overhead of testing was 0.665758 seconds.\n",
      "You can set `force_col_wise=true` to remove the overhead.\n",
      "[LightGBM] [Info] Total Bins 208420\n",
      "[LightGBM] [Info] Number of data points in the train set: 128000, number of used features: 4321\n",
      "[LightGBM] [Info] [binary:BoostFromScore]: pavg=0.500016 -> initscore=0.000063\n",
      "[LightGBM] [Info] Start training from score 0.000063\n",
      "Training until validation scores don't improve for 50 rounds\n",
      "Did not meet early stopping. Best iteration is:\n",
      "[500]\ttraining's binary_logloss: 0.467583\tvalid_1's binary_logloss: 0.489703\n",
      "[LightGBM] [Info] Number of positive: 64002, number of negative: 63998\n",
      "[LightGBM] [Info] Auto-choosing row-wise multi-threading, the overhead of testing was 0.613375 seconds.\n",
      "You can set `force_row_wise=true` to remove the overhead.\n",
      "And if memory is not enough, you can set `force_col_wise=true`.\n",
      "[LightGBM] [Info] Total Bins 208420\n",
      "[LightGBM] [Info] Number of data points in the train set: 128000, number of used features: 4321\n",
      "[LightGBM] [Info] [binary:BoostFromScore]: pavg=0.500016 -> initscore=0.000063\n",
      "[LightGBM] [Info] Start training from score 0.000063\n",
      "Training until validation scores don't improve for 50 rounds\n",
      "Did not meet early stopping. Best iteration is:\n",
      "[461]\ttraining's binary_logloss: 0.356104\tvalid_1's binary_logloss: 0.454912\n",
      "[LightGBM] [Info] Number of positive: 64002, number of negative: 63998\n",
      "[LightGBM] [Info] Auto-choosing row-wise multi-threading, the overhead of testing was 0.631820 seconds.\n",
      "You can set `force_row_wise=true` to remove the overhead.\n",
      "And if memory is not enough, you can set `force_col_wise=true`.\n",
      "[LightGBM] [Info] Total Bins 208420\n",
      "[LightGBM] [Info] Number of data points in the train set: 128000, number of used features: 4321\n",
      "[LightGBM] [Info] [binary:BoostFromScore]: pavg=0.500016 -> initscore=0.000063\n",
      "[LightGBM] [Info] Start training from score 0.000063\n",
      "Training until validation scores don't improve for 50 rounds\n",
      "Early stopping, best iteration is:\n",
      "[241]\ttraining's binary_logloss: 0.359944\tvalid_1's binary_logloss: 0.455793\n",
      "[LightGBM] [Info] Number of positive: 64002, number of negative: 63998\n",
      "[LightGBM] [Info] Auto-choosing col-wise multi-threading, the overhead of testing was 0.600396 seconds.\n",
      "You can set `force_col_wise=true` to remove the overhead.\n",
      "[LightGBM] [Info] Total Bins 208420\n",
      "[LightGBM] [Info] Number of data points in the train set: 128000, number of used features: 4321\n",
      "[LightGBM] [Info] [binary:BoostFromScore]: pavg=0.500016 -> initscore=0.000063\n",
      "[LightGBM] [Info] Start training from score 0.000063\n",
      "Training until validation scores don't improve for 50 rounds\n",
      "Early stopping, best iteration is:\n",
      "[143]\ttraining's binary_logloss: 0.371944\tvalid_1's binary_logloss: 0.457943\n",
      "[LightGBM] [Info] Number of positive: 64002, number of negative: 63998\n",
      "[LightGBM] [Info] Auto-choosing row-wise multi-threading, the overhead of testing was 0.606634 seconds.\n",
      "You can set `force_row_wise=true` to remove the overhead.\n",
      "And if memory is not enough, you can set `force_col_wise=true`.\n",
      "[LightGBM] [Info] Total Bins 208420\n",
      "[LightGBM] [Info] Number of data points in the train set: 128000, number of used features: 4321\n",
      "[LightGBM] [Info] [binary:BoostFromScore]: pavg=0.500016 -> initscore=0.000063\n",
      "[LightGBM] [Info] Start training from score 0.000063\n",
      "Training until validation scores don't improve for 50 rounds\n",
      "Early stopping, best iteration is:\n",
      "[110]\ttraining's binary_logloss: 0.370735\tvalid_1's binary_logloss: 0.459233\n",
      "[LightGBM] [Info] Number of positive: 64002, number of negative: 63998\n",
      "[LightGBM] [Info] Auto-choosing row-wise multi-threading, the overhead of testing was 0.630502 seconds.\n",
      "You can set `force_row_wise=true` to remove the overhead.\n",
      "And if memory is not enough, you can set `force_col_wise=true`.\n",
      "[LightGBM] [Info] Total Bins 208420\n",
      "[LightGBM] [Info] Number of data points in the train set: 128000, number of used features: 4321\n",
      "[LightGBM] [Info] [binary:BoostFromScore]: pavg=0.500016 -> initscore=0.000063\n",
      "[LightGBM] [Info] Start training from score 0.000063\n",
      "Training until validation scores don't improve for 50 rounds\n",
      "Early stopping, best iteration is:\n",
      "[109]\ttraining's binary_logloss: 0.355828\tvalid_1's binary_logloss: 0.460722\n",
      "[LightGBM] [Info] Number of positive: 64002, number of negative: 63998\n",
      "[LightGBM] [Info] Auto-choosing row-wise multi-threading, the overhead of testing was 0.625258 seconds.\n",
      "You can set `force_row_wise=true` to remove the overhead.\n",
      "And if memory is not enough, you can set `force_col_wise=true`.\n",
      "[LightGBM] [Info] Total Bins 208420\n",
      "[LightGBM] [Info] Number of data points in the train set: 128000, number of used features: 4321\n",
      "[LightGBM] [Info] [binary:BoostFromScore]: pavg=0.500016 -> initscore=0.000063\n",
      "[LightGBM] [Info] Start training from score 0.000063\n",
      "Training until validation scores don't improve for 50 rounds\n",
      "Did not meet early stopping. Best iteration is:\n",
      "[500]\ttraining's binary_logloss: 0.458068\tvalid_1's binary_logloss: 0.484485\n",
      "[LightGBM] [Info] Number of positive: 64002, number of negative: 63998\n",
      "[LightGBM] [Info] Auto-choosing col-wise multi-threading, the overhead of testing was 0.592025 seconds.\n",
      "You can set `force_col_wise=true` to remove the overhead.\n",
      "[LightGBM] [Info] Total Bins 208420\n",
      "[LightGBM] [Info] Number of data points in the train set: 128000, number of used features: 4321\n",
      "[LightGBM] [Info] [binary:BoostFromScore]: pavg=0.500016 -> initscore=0.000063\n",
      "[LightGBM] [Info] Start training from score 0.000063\n",
      "Training until validation scores don't improve for 50 rounds\n",
      "Early stopping, best iteration is:\n",
      "[418]\ttraining's binary_logloss: 0.347468\tvalid_1's binary_logloss: 0.454397\n",
      "[LightGBM] [Info] Number of positive: 64002, number of negative: 63998\n",
      "[LightGBM] [Info] Auto-choosing col-wise multi-threading, the overhead of testing was 0.652646 seconds.\n",
      "You can set `force_col_wise=true` to remove the overhead.\n",
      "[LightGBM] [Info] Total Bins 208420\n",
      "[LightGBM] [Info] Number of data points in the train set: 128000, number of used features: 4321\n",
      "[LightGBM] [Info] [binary:BoostFromScore]: pavg=0.500016 -> initscore=0.000063\n",
      "[LightGBM] [Info] Start training from score 0.000063\n",
      "Training until validation scores don't improve for 50 rounds\n",
      "Early stopping, best iteration is:\n",
      "[223]\ttraining's binary_logloss: 0.348909\tvalid_1's binary_logloss: 0.455442\n",
      "[LightGBM] [Info] Number of positive: 64002, number of negative: 63998\n",
      "[LightGBM] [Info] Auto-choosing row-wise multi-threading, the overhead of testing was 0.706560 seconds.\n",
      "You can set `force_row_wise=true` to remove the overhead.\n",
      "And if memory is not enough, you can set `force_col_wise=true`.\n",
      "[LightGBM] [Info] Total Bins 208420\n",
      "[LightGBM] [Info] Number of data points in the train set: 128000, number of used features: 4321\n",
      "[LightGBM] [Info] [binary:BoostFromScore]: pavg=0.500016 -> initscore=0.000063\n",
      "[LightGBM] [Info] Start training from score 0.000063\n",
      "Training until validation scores don't improve for 50 rounds\n",
      "Early stopping, best iteration is:\n",
      "[158]\ttraining's binary_logloss: 0.346739\tvalid_1's binary_logloss: 0.456743\n",
      "[LightGBM] [Info] Number of positive: 64002, number of negative: 63998\n",
      "[LightGBM] [Info] Auto-choosing col-wise multi-threading, the overhead of testing was 0.603496 seconds.\n",
      "You can set `force_col_wise=true` to remove the overhead.\n",
      "[LightGBM] [Info] Total Bins 208420\n",
      "[LightGBM] [Info] Number of data points in the train set: 128000, number of used features: 4321\n",
      "[LightGBM] [Info] [binary:BoostFromScore]: pavg=0.500016 -> initscore=0.000063\n",
      "[LightGBM] [Info] Start training from score 0.000063\n",
      "Training until validation scores don't improve for 50 rounds\n",
      "Early stopping, best iteration is:\n",
      "[103]\ttraining's binary_logloss: 0.360415\tvalid_1's binary_logloss: 0.458758\n",
      "[LightGBM] [Info] Number of positive: 64002, number of negative: 63998\n",
      "[LightGBM] [Info] Auto-choosing col-wise multi-threading, the overhead of testing was 0.589046 seconds.\n",
      "You can set `force_col_wise=true` to remove the overhead.\n",
      "[LightGBM] [Info] Total Bins 208420\n",
      "[LightGBM] [Info] Number of data points in the train set: 128000, number of used features: 4321\n",
      "[LightGBM] [Info] [binary:BoostFromScore]: pavg=0.500016 -> initscore=0.000063\n",
      "[LightGBM] [Info] Start training from score 0.000063\n",
      "Training until validation scores don't improve for 50 rounds\n",
      "Early stopping, best iteration is:\n",
      "[88]\ttraining's binary_logloss: 0.355725\tvalid_1's binary_logloss: 0.461873\n",
      "[LightGBM] [Info] Number of positive: 64002, number of negative: 63998\n",
      "[LightGBM] [Info] Auto-choosing col-wise multi-threading, the overhead of testing was 0.595953 seconds.\n",
      "You can set `force_col_wise=true` to remove the overhead.\n",
      "[LightGBM] [Info] Total Bins 208420\n",
      "[LightGBM] [Info] Number of data points in the train set: 128000, number of used features: 4321\n",
      "[LightGBM] [Info] [binary:BoostFromScore]: pavg=0.500016 -> initscore=0.000063\n",
      "[LightGBM] [Info] Start training from score 0.000063\n",
      "Training until validation scores don't improve for 50 rounds\n",
      "Did not meet early stopping. Best iteration is:\n",
      "[500]\ttraining's binary_logloss: 0.449832\tvalid_1's binary_logloss: 0.480367\n",
      "[LightGBM] [Info] Number of positive: 64002, number of negative: 63998\n",
      "[LightGBM] [Info] Auto-choosing row-wise multi-threading, the overhead of testing was 0.620626 seconds.\n",
      "You can set `force_row_wise=true` to remove the overhead.\n",
      "And if memory is not enough, you can set `force_col_wise=true`.\n",
      "[LightGBM] [Info] Total Bins 208420\n",
      "[LightGBM] [Info] Number of data points in the train set: 128000, number of used features: 4321\n",
      "[LightGBM] [Info] [binary:BoostFromScore]: pavg=0.500016 -> initscore=0.000063\n",
      "[LightGBM] [Info] Start training from score 0.000063\n",
      "Training until validation scores don't improve for 50 rounds\n",
      "Early stopping, best iteration is:\n",
      "[382]\ttraining's binary_logloss: 0.34041\tvalid_1's binary_logloss: 0.454236\n",
      "[LightGBM] [Info] Number of positive: 64002, number of negative: 63998\n",
      "[LightGBM] [Info] Auto-choosing row-wise multi-threading, the overhead of testing was 0.594024 seconds.\n",
      "You can set `force_row_wise=true` to remove the overhead.\n",
      "And if memory is not enough, you can set `force_col_wise=true`.\n",
      "[LightGBM] [Info] Total Bins 208420\n",
      "[LightGBM] [Info] Number of data points in the train set: 128000, number of used features: 4321\n",
      "[LightGBM] [Info] [binary:BoostFromScore]: pavg=0.500016 -> initscore=0.000063\n",
      "[LightGBM] [Info] Start training from score 0.000063\n",
      "Training until validation scores don't improve for 50 rounds\n",
      "Early stopping, best iteration is:\n",
      "[184]\ttraining's binary_logloss: 0.351795\tvalid_1's binary_logloss: 0.455412\n",
      "[LightGBM] [Info] Number of positive: 64002, number of negative: 63998\n",
      "[LightGBM] [Info] Auto-choosing row-wise multi-threading, the overhead of testing was 0.725460 seconds.\n",
      "You can set `force_row_wise=true` to remove the overhead.\n",
      "And if memory is not enough, you can set `force_col_wise=true`.\n",
      "[LightGBM] [Info] Total Bins 208420\n",
      "[LightGBM] [Info] Number of data points in the train set: 128000, number of used features: 4321\n",
      "[LightGBM] [Info] [binary:BoostFromScore]: pavg=0.500016 -> initscore=0.000063\n",
      "[LightGBM] [Info] Start training from score 0.000063\n",
      "Training until validation scores don't improve for 50 rounds\n",
      "Early stopping, best iteration is:\n",
      "[123]\ttraining's binary_logloss: 0.353144\tvalid_1's binary_logloss: 0.45756\n",
      "[LightGBM] [Info] Number of positive: 64002, number of negative: 63998\n",
      "[LightGBM] [Info] Auto-choosing col-wise multi-threading, the overhead of testing was 0.662296 seconds.\n",
      "You can set `force_col_wise=true` to remove the overhead.\n",
      "[LightGBM] [Info] Total Bins 208420\n",
      "[LightGBM] [Info] Number of data points in the train set: 128000, number of used features: 4321\n",
      "[LightGBM] [Info] [binary:BoostFromScore]: pavg=0.500016 -> initscore=0.000063\n",
      "[LightGBM] [Info] Start training from score 0.000063\n",
      "Training until validation scores don't improve for 50 rounds\n",
      "Early stopping, best iteration is:\n",
      "[81]\ttraining's binary_logloss: 0.366695\tvalid_1's binary_logloss: 0.459259\n",
      "[LightGBM] [Info] Number of positive: 64002, number of negative: 63998\n",
      "[LightGBM] [Info] Auto-choosing row-wise multi-threading, the overhead of testing was 0.597616 seconds.\n",
      "You can set `force_row_wise=true` to remove the overhead.\n",
      "And if memory is not enough, you can set `force_col_wise=true`.\n",
      "[LightGBM] [Info] Total Bins 208420\n",
      "[LightGBM] [Info] Number of data points in the train set: 128000, number of used features: 4321\n",
      "[LightGBM] [Info] [binary:BoostFromScore]: pavg=0.500016 -> initscore=0.000063\n",
      "[LightGBM] [Info] Start training from score 0.000063\n",
      "Training until validation scores don't improve for 50 rounds\n",
      "Early stopping, best iteration is:\n",
      "[53]\ttraining's binary_logloss: 0.381604\tvalid_1's binary_logloss: 0.459318\n"
     ]
    }
   ],
   "source": [
    "stats = []\n",
    "\n",
    "for leaves in range(40, 151, 20):\n",
    "    for learning in range(10, 301, 50):\n",
    "        params = {\n",
    "            'objective': 'binary',\n",
    "            'metric': 'binary_logloss',\n",
    "            'learning_rate': learning/1000,\n",
    "            'num_leaves': leaves,\n",
    "        }\n",
    "\n",
    "        acc, roc, y_test, y_pred = train_and_predict(params, train_data, test_data)\n",
    "\n",
    "        stats.append([leaves, learning, acc, roc])\n"
   ]
  },
  {
   "cell_type": "code",
   "execution_count": 106,
   "metadata": {},
   "outputs": [],
   "source": [
    "s1 = pd.DataFrame(stats.copy())\n",
    "s1.columns = ['num_leaves', 'learning_rate', 'accuracy', 'roc']\n",
    "s1['learning_rate'] = s1['learning_rate'] / 1000"
   ]
  },
  {
   "cell_type": "code",
   "execution_count": 108,
   "metadata": {},
   "outputs": [
    {
     "data": {
      "text/html": [
       "<div>\n",
       "<style scoped>\n",
       "    .dataframe tbody tr th:only-of-type {\n",
       "        vertical-align: middle;\n",
       "    }\n",
       "\n",
       "    .dataframe tbody tr th {\n",
       "        vertical-align: top;\n",
       "    }\n",
       "\n",
       "    .dataframe thead th {\n",
       "        text-align: right;\n",
       "    }\n",
       "</style>\n",
       "<table border=\"1\" class=\"dataframe\">\n",
       "  <thead>\n",
       "    <tr style=\"text-align: right;\">\n",
       "      <th></th>\n",
       "      <th>num_leaves</th>\n",
       "      <th>learning_rate</th>\n",
       "      <th>accuracy</th>\n",
       "      <th>roc</th>\n",
       "    </tr>\n",
       "  </thead>\n",
       "  <tbody>\n",
       "    <tr>\n",
       "      <th>25</th>\n",
       "      <td>120</td>\n",
       "      <td>0.06</td>\n",
       "      <td>0.789312</td>\n",
       "      <td>0.868390</td>\n",
       "    </tr>\n",
       "    <tr>\n",
       "      <th>32</th>\n",
       "      <td>140</td>\n",
       "      <td>0.11</td>\n",
       "      <td>0.788438</td>\n",
       "      <td>0.867642</td>\n",
       "    </tr>\n",
       "    <tr>\n",
       "      <th>14</th>\n",
       "      <td>80</td>\n",
       "      <td>0.11</td>\n",
       "      <td>0.788062</td>\n",
       "      <td>0.868019</td>\n",
       "    </tr>\n",
       "    <tr>\n",
       "      <th>31</th>\n",
       "      <td>140</td>\n",
       "      <td>0.06</td>\n",
       "      <td>0.788031</td>\n",
       "      <td>0.868572</td>\n",
       "    </tr>\n",
       "    <tr>\n",
       "      <th>19</th>\n",
       "      <td>100</td>\n",
       "      <td>0.06</td>\n",
       "      <td>0.787750</td>\n",
       "      <td>0.868156</td>\n",
       "    </tr>\n",
       "  </tbody>\n",
       "</table>\n",
       "</div>"
      ],
      "text/plain": [
       "    num_leaves  learning_rate  accuracy       roc\n",
       "25         120           0.06  0.789312  0.868390\n",
       "32         140           0.11  0.788438  0.867642\n",
       "14          80           0.11  0.788062  0.868019\n",
       "31         140           0.06  0.788031  0.868572\n",
       "19         100           0.06  0.787750  0.868156"
      ]
     },
     "execution_count": 108,
     "metadata": {},
     "output_type": "execute_result"
    }
   ],
   "source": [
    "s1.sort_values('accuracy', ascending=False).head()"
   ]
  },
  {
   "cell_type": "code",
   "execution_count": 109,
   "metadata": {},
   "outputs": [
    {
     "name": "stdout",
     "output_type": "stream",
     "text": [
      "[LightGBM] [Info] Number of positive: 64002, number of negative: 63998\n",
      "[LightGBM] [Info] Auto-choosing row-wise multi-threading, the overhead of testing was 0.683233 seconds.\n",
      "You can set `force_row_wise=true` to remove the overhead.\n",
      "And if memory is not enough, you can set `force_col_wise=true`.\n",
      "[LightGBM] [Info] Total Bins 208420\n",
      "[LightGBM] [Info] Number of data points in the train set: 128000, number of used features: 4321\n",
      "[LightGBM] [Info] [binary:BoostFromScore]: pavg=0.500016 -> initscore=0.000063\n",
      "[LightGBM] [Info] Start training from score 0.000063\n",
      "Training until validation scores don't improve for 50 rounds\n",
      "Early stopping, best iteration is:\n",
      "[418]\ttraining's binary_logloss: 0.347468\tvalid_1's binary_logloss: 0.454397\n"
     ]
    }
   ],
   "source": [
    "params = {\n",
    "    'objective': 'binary',\n",
    "    'metric': 'binary_logloss',\n",
    "    'learning_rate': 0.06,\n",
    "    'num_leaves': 120,\n",
    "}\n",
    "accuracy, roc_auc, y_test, y_pred = train_and_predict(params, train_data, test_data)"
   ]
  },
  {
   "cell_type": "code",
   "execution_count": 110,
   "metadata": {},
   "outputs": [],
   "source": [
    "y_pred_binary = (y_pred >= 0.5).astype(int)"
   ]
  },
  {
   "cell_type": "code",
   "execution_count": 111,
   "metadata": {},
   "outputs": [
    {
     "name": "stdout",
     "output_type": "stream",
     "text": [
      "\n",
      "\n",
      "Accuracy: 0.7893125 \n",
      "\n",
      "ROC: 0.868389958881093 \n",
      "\n",
      "Classification report:\n",
      "               precision    recall  f1-score   support\n",
      "\n",
      "           0       0.79      0.78      0.79     16002\n",
      "           1       0.79      0.79      0.79     15998\n",
      "\n",
      "    accuracy                           0.79     32000\n",
      "   macro avg       0.79      0.79      0.79     32000\n",
      "weighted avg       0.79      0.79      0.79     32000\n",
      "\n"
     ]
    }
   ],
   "source": [
    "print(\"\\n\\nAccuracy:\", accuracy_score(y_test, y_pred_binary), \"\\n\\nROC:\", roc_auc_score(y_test, y_pred), \"\\n\\nClassification report:\\n\", classification_report(y_test, y_pred_binary))"
   ]
  },
  {
   "cell_type": "code",
   "execution_count": 112,
   "metadata": {},
   "outputs": [],
   "source": [
    "fpr, tpr, thresholds = roc_curve(y_test, y_pred)\n",
    "roc_auc = auc(fpr, tpr)"
   ]
  },
  {
   "cell_type": "code",
   "execution_count": 114,
   "metadata": {},
   "outputs": [
    {
     "data": {
      "image/png": "[encoded data removed]",
      "text/plain": [
       "<Figure size 800x600 with 1 Axes>"
      ]
     },
     "metadata": {},
     "output_type": "display_data"
    }
   ],
   "source": [
    "plt.figure(figsize=(8, 6))\n",
    "plt.plot(fpr, tpr, color='darkorange', lw=2, label=f'ROC curve (AUC = {roc_auc:.2f})')\n",
    "plt.plot([0, 1], [0, 1], color='navy', lw=2, linestyle='--')\n",
    "plt.xlim([0.0, 1.0])\n",
    "plt.ylim([0.0, 1.05])\n",
    "plt.xlabel('False Positive Rate')\n",
    "plt.ylabel('True Positive Rate')\n",
    "plt.title('Receiver Operating Characteristic (ROC) - Logistic Regression')\n",
    "plt.legend(loc=\"lower right\")\n",
    "plt.savefig('plots\\\\roc_lightgbm.png', dpi=300)\n",
    "plt.show()"
   ]
  },
  {
   "cell_type": "code",
   "execution_count": null,
   "metadata": {},
   "outputs": [],
   "source": []
  },
  {
   "cell_type": "code",
   "execution_count": null,
   "metadata": {},
   "outputs": [],
   "source": []
  },
  {
   "cell_type": "code",
   "execution_count": 263,
   "metadata": {},
   "outputs": [],
   "source": [
    "tokenizer = Tokenizer(num_words=10000)"
   ]
  },
  {
   "cell_type": "code",
   "execution_count": 264,
   "metadata": {},
   "outputs": [],
   "source": [
    "X = df['tweet_text']\n",
    "y = df['sentiment_label']\n",
    "X_train, X_test, y_train, y_test = train_test_split(X, y, test_size=0.2, random_state=99)"
   ]
  },
  {
   "cell_type": "code",
   "execution_count": 265,
   "metadata": {},
   "outputs": [],
   "source": [
    "tokenizer.fit_on_texts(X_train)\n",
    "X_train_seq = tokenizer.texts_to_sequences(X_train)\n",
    "X_test_seq = tokenizer.texts_to_sequences(X_test)"
   ]
  },
  {
   "cell_type": "code",
   "execution_count": 266,
   "metadata": {},
   "outputs": [],
   "source": [
    "max_length = 50"
   ]
  },
  {
   "cell_type": "code",
   "execution_count": 268,
   "metadata": {},
   "outputs": [],
   "source": [
    "X_train_seq = pad_sequences(X_train_seq, maxlen=max_length)\n",
    "X_test_seq = pad_sequences(X_test_seq, maxlen=max_length)"
   ]
  },
  {
   "cell_type": "code",
   "execution_count": 269,
   "metadata": {},
   "outputs": [],
   "source": [
    "X_train_seq = np.array(X_train_seq)\n",
    "X_test_seq = np.array(X_test_seq)"
   ]
  },
  {
   "cell_type": "code",
   "execution_count": 270,
   "metadata": {},
   "outputs": [],
   "source": [
    "y_train = np.array(y_train.tolist())\n",
    "y_test = np.array(y_test.tolist())"
   ]
  },
  {
   "cell_type": "code",
   "execution_count": 271,
   "metadata": {},
   "outputs": [],
   "source": [
    "early_stopping = EarlyStopping(monitor='val_loss', min_delta=0.001, patience=10, verbose=1, mode='min', restore_best_weights=True)"
   ]
  },
  {
   "cell_type": "code",
   "execution_count": 272,
   "metadata": {},
   "outputs": [],
   "source": [
    "model = Sequential()\n",
    "model.add(Embedding(input_dim=10000, output_dim=50, input_length=max_length))\n",
    "model.add(Flatten())\n",
    "model.add(Dense(1, activation='sigmoid'))"
   ]
  },
  {
   "cell_type": "code",
   "execution_count": 273,
   "metadata": {},
   "outputs": [],
   "source": [
    "model.compile(loss='binary_crossentropy', optimizer='adam', metrics=['accuracy'])"
   ]
  },
  {
   "cell_type": "code",
   "execution_count": 274,
   "metadata": {},
   "outputs": [
    {
     "name": "stdout",
     "output_type": "stream",
     "text": [
      "Epoch 1/10\n",
      "12800/12800 [==============================] - 53s 4ms/step - loss: 0.4952 - accuracy: 0.7633 - val_loss: 0.4696 - val_accuracy: 0.7818\n",
      "Epoch 2/10\n",
      "12800/12800 [==============================] - 52s 4ms/step - loss: 0.4195 - accuracy: 0.8124 - val_loss: 0.4877 - val_accuracy: 0.7762\n",
      "Epoch 3/10\n",
      "12800/12800 [==============================] - 52s 4ms/step - loss: 0.3453 - accuracy: 0.8533 - val_loss: 0.5384 - val_accuracy: 0.7631\n",
      "Epoch 4/10\n",
      "12800/12800 [==============================] - 53s 4ms/step - loss: 0.2840 - accuracy: 0.8825 - val_loss: 0.6102 - val_accuracy: 0.7502\n",
      "Epoch 5/10\n",
      "12800/12800 [==============================] - 52s 4ms/step - loss: 0.2430 - accuracy: 0.9014 - val_loss: 0.6842 - val_accuracy: 0.7454\n",
      "Epoch 6/10\n",
      "12800/12800 [==============================] - 51s 4ms/step - loss: 0.2154 - accuracy: 0.9129 - val_loss: 0.7595 - val_accuracy: 0.7343\n",
      "Epoch 7/10\n",
      "12800/12800 [==============================] - 51s 4ms/step - loss: 0.1947 - accuracy: 0.9212 - val_loss: 0.8365 - val_accuracy: 0.7272\n",
      "Epoch 8/10\n",
      "12800/12800 [==============================] - 56s 4ms/step - loss: 0.1801 - accuracy: 0.9280 - val_loss: 0.9111 - val_accuracy: 0.7232\n",
      "Epoch 9/10\n",
      "12800/12800 [==============================] - 57s 4ms/step - loss: 0.1692 - accuracy: 0.9323 - val_loss: 0.9861 - val_accuracy: 0.7170\n",
      "Epoch 10/10\n",
      "12800/12800 [==============================] - 57s 4ms/step - loss: 0.1597 - accuracy: 0.9367 - val_loss: 1.0428 - val_accuracy: 0.7200\n"
     ]
    },
    {
     "data": {
      "text/plain": [
       "<keras.src.callbacks.History at 0x1291cea6bd0>"
      ]
     },
     "execution_count": 274,
     "metadata": {},
     "output_type": "execute_result"
    }
   ],
   "source": [
    "model.fit(X_train_seq, y_train, epochs=10, batch_size=10, verbose=1, validation_data=(X_test_seq, y_test), callbacks=[early_stopping])"
   ]
  },
  {
   "cell_type": "code",
   "execution_count": null,
   "metadata": {},
   "outputs": [],
   "source": []
  },
  {
   "cell_type": "code",
   "execution_count": 115,
   "metadata": {},
   "outputs": [],
   "source": [
    "max_length = 128\n",
    "max_features = 30522"
   ]
  },
  {
   "cell_type": "code",
   "execution_count": 116,
   "metadata": {},
   "outputs": [],
   "source": [
    "X = df['tweet_text']\n",
    "y = df['sentiment_label']\n",
    "X_train, X_test, y_train, y_test = train_test_split(X, y, test_size=0.2, random_state=99)"
   ]
  },
  {
   "cell_type": "code",
   "execution_count": 117,
   "metadata": {},
   "outputs": [
    {
     "name": "stderr",
     "output_type": "stream",
     "text": [
      "tokenizer_config.json: 100%|██████████| 48.0/48.0 [00:00<?, ?B/s]\n",
      "c:\\Users\\fredd\\AppData\\Local\\Programs\\Python\\Python311\\Lib\\site-packages\\huggingface_hub\\file_download.py:149: UserWarning: `huggingface_hub` cache-system uses symlinks by default to efficiently store duplicated files but your machine does not support them in C:\\Users\\fredd\\.cache\\huggingface\\hub\\models--bert-base-uncased. Caching files will still work but in a degraded version that might require more space on your disk. This warning can be disabled by setting the `HF_HUB_DISABLE_SYMLINKS_WARNING` environment variable. For more details, see https://huggingface.co/docs/huggingface_hub/how-to-cache#limitations.\n",
      "To support symlinks on Windows, you either need to activate Developer Mode or to run Python as an administrator. In order to see activate developer mode, see this article: https://docs.microsoft.com/en-us/windows/apps/get-started/enable-your-device-for-development\n",
      "  warnings.warn(message)\n",
      "vocab.txt: 100%|██████████| 232k/232k [00:00<00:00, 1.85MB/s]\n",
      "tokenizer.json: 100%|██████████| 466k/466k [00:00<00:00, 15.1MB/s]\n",
      "config.json: 100%|██████████| 570/570 [00:00<00:00, 570kB/s]\n"
     ]
    }
   ],
   "source": [
    "tokenizer = BertTokenizer.from_pretrained('bert-base-uncased')\n",
    "\n",
    "X_train_encoded = [tokenizer.encode(text, add_special_tokens=True) for text in X_train]\n",
    "X_test_encoded = [tokenizer.encode(text, add_special_tokens=True) for text in X_test]\n",
    "\n",
    "X_train_padded = pad_sequences(X_train_encoded, maxlen=max_length, padding='post')\n",
    "X_test_padded = pad_sequences(X_test_encoded, maxlen=max_length, padding='post')\n"
   ]
  },
  {
   "cell_type": "code",
   "execution_count": 118,
   "metadata": {},
   "outputs": [],
   "source": [
    "train_dataset = tf.data.Dataset.from_tensor_slices((X_train_padded, y_train))\n",
    "train_dataset = train_dataset.shuffle(buffer_size=1024).batch(32)\n"
   ]
  },
  {
   "cell_type": "code",
   "execution_count": 119,
   "metadata": {},
   "outputs": [
    {
     "name": "stdout",
     "output_type": "stream",
     "text": [
      "WARNING:tensorflow:From c:\\Users\\fredd\\AppData\\Local\\Programs\\Python\\Python311\\Lib\\site-packages\\keras\\src\\backend.py:873: The name tf.get_default_graph is deprecated. Please use tf.compat.v1.get_default_graph instead.\n",
      "\n"
     ]
    }
   ],
   "source": [
    "model = Sequential()\n",
    "model.add(Embedding(input_dim=max_features, output_dim=128, input_length=max_length, mask_zero=True))\n",
    "model.add(LSTM(64))\n",
    "model.add(Dense(1, activation='sigmoid'))"
   ]
  },
  {
   "cell_type": "code",
   "execution_count": 120,
   "metadata": {},
   "outputs": [
    {
     "name": "stdout",
     "output_type": "stream",
     "text": [
      "WARNING:tensorflow:From c:\\Users\\fredd\\AppData\\Local\\Programs\\Python\\Python311\\Lib\\site-packages\\keras\\src\\optimizers\\__init__.py:309: The name tf.train.Optimizer is deprecated. Please use tf.compat.v1.train.Optimizer instead.\n",
      "\n"
     ]
    }
   ],
   "source": [
    "\n",
    "model.compile(optimizer='adam', loss='binary_crossentropy', metrics=['accuracy'])"
   ]
  },
  {
   "cell_type": "code",
   "execution_count": 121,
   "metadata": {},
   "outputs": [],
   "source": [
    "early_stopping = EarlyStopping(monitor='val_loss', patience=3, verbose=1, restore_best_weights=True)"
   ]
  },
  {
   "cell_type": "code",
   "execution_count": 122,
   "metadata": {},
   "outputs": [
    {
     "name": "stdout",
     "output_type": "stream",
     "text": [
      "Epoch 1/10\n",
      "WARNING:tensorflow:From c:\\Users\\fredd\\AppData\\Local\\Programs\\Python\\Python311\\Lib\\site-packages\\keras\\src\\utils\\tf_utils.py:492: The name tf.ragged.RaggedTensorValue is deprecated. Please use tf.compat.v1.ragged.RaggedTensorValue instead.\n",
      "\n",
      "WARNING:tensorflow:From c:\\Users\\fredd\\AppData\\Local\\Programs\\Python\\Python311\\Lib\\site-packages\\keras\\src\\engine\\base_layer_utils.py:384: The name tf.executing_eagerly_outside_functions is deprecated. Please use tf.compat.v1.executing_eagerly_outside_functions instead.\n",
      "\n",
      "4000/4000 [==============================] - 284s 70ms/step - loss: 0.4782 - accuracy: 0.7709 - val_loss: 0.4411 - val_accuracy: 0.7952\n",
      "Epoch 2/10\n",
      "4000/4000 [==============================] - 277s 69ms/step - loss: 0.3891 - accuracy: 0.8235 - val_loss: 0.4539 - val_accuracy: 0.7913\n",
      "Epoch 3/10\n",
      "4000/4000 [==============================] - 277s 69ms/step - loss: 0.3023 - accuracy: 0.8705 - val_loss: 0.5418 - val_accuracy: 0.7758\n",
      "Epoch 4/10\n",
      "4000/4000 [==============================] - ETA: 0s - loss: 0.2188 - accuracy: 0.9115Restoring model weights from the end of the best epoch: 1.\n",
      "4000/4000 [==============================] - 277s 69ms/step - loss: 0.2188 - accuracy: 0.9115 - val_loss: 0.6680 - val_accuracy: 0.7602\n",
      "Epoch 4: early stopping\n"
     ]
    }
   ],
   "source": [
    "history = model.fit(train_dataset, epochs=10, validation_data=(X_test_padded, y_test), callbacks=[early_stopping])"
   ]
  },
  {
   "cell_type": "code",
   "execution_count": 123,
   "metadata": {},
   "outputs": [
    {
     "name": "stdout",
     "output_type": "stream",
     "text": [
      "1000/1000 - 12s - loss: 0.4411 - accuracy: 0.7952 - 12s/epoch - 12ms/step\n"
     ]
    }
   ],
   "source": [
    "test_loss, test_acc = model.evaluate(X_test_padded, y_test, verbose=2)"
   ]
  },
  {
   "cell_type": "code",
   "execution_count": 124,
   "metadata": {},
   "outputs": [
    {
     "name": "stdout",
     "output_type": "stream",
     "text": [
      "1000/1000 [==============================] - 14s 13ms/step\n"
     ]
    }
   ],
   "source": [
    "predictions = model.predict(X_test_padded)"
   ]
  },
  {
   "cell_type": "code",
   "execution_count": 125,
   "metadata": {},
   "outputs": [],
   "source": [
    "y_pred_binary = (predictions >= 0.5).astype(int)"
   ]
  },
  {
   "cell_type": "code",
   "execution_count": 126,
   "metadata": {},
   "outputs": [
    {
     "name": "stdout",
     "output_type": "stream",
     "text": [
      "\n",
      "\n",
      "Accuracy: 0.79521875 \n",
      "\n",
      "ROC: 0.8767174316674599 \n",
      "\n",
      "Classification report:\n",
      "               precision    recall  f1-score   support\n",
      "\n",
      "           0       0.79      0.80      0.80     16002\n",
      "           1       0.80      0.79      0.79     15998\n",
      "\n",
      "    accuracy                           0.80     32000\n",
      "   macro avg       0.80      0.80      0.80     32000\n",
      "weighted avg       0.80      0.80      0.80     32000\n",
      "\n"
     ]
    }
   ],
   "source": [
    "print(\"\\n\\nAccuracy:\", accuracy_score(y_test, y_pred_binary), \"\\n\\nROC:\", roc_auc_score(y_test, predictions), \"\\n\\nClassification report:\\n\", classification_report(y_test, y_pred_binary))"
   ]
  },
  {
   "cell_type": "code",
   "execution_count": 127,
   "metadata": {},
   "outputs": [],
   "source": [
    "fpr, tpr, thresholds = roc_curve(y_test, predictions)\n",
    "roc_auc = auc(fpr, tpr)"
   ]
  },
  {
   "cell_type": "code",
   "execution_count": 128,
   "metadata": {},
   "outputs": [
    {
     "data": {
      "image/png": "[encoded data removed]",
      "text/plain": [
       "<Figure size 800x600 with 1 Axes>"
      ]
     },
     "metadata": {},
     "output_type": "display_data"
    }
   ],
   "source": [
    "plt.figure(figsize=(8, 6))\n",
    "plt.plot(fpr, tpr, color='darkorange', lw=2, label=f'ROC curve (AUC = {roc_auc:.2f})')\n",
    "plt.plot([0, 1], [0, 1], color='navy', lw=2, linestyle='--')\n",
    "plt.xlim([0.0, 1.0])\n",
    "plt.ylim([0.0, 1.05])\n",
    "plt.xlabel('False Positive Rate')\n",
    "plt.ylabel('True Positive Rate')\n",
    "plt.title('Receiver Operating Characteristic (ROC) - Logistic Regression')\n",
    "plt.legend(loc=\"lower right\")\n",
    "plt.savefig('plots\\\\roc_nn.png', dpi=300)\n",
    "plt.show()"
   ]
  },
  {
   "cell_type": "code",
   "execution_count": null,
   "metadata": {},
   "outputs": [],
   "source": []
  }
 ],
 "metadata": {
  "kernelspec": {
   "display_name": "Python 3",
   "language": "python",
   "name": "python3"
  },
  "language_info": {
   "codemirror_mode": {
    "name": "ipython",
    "version": 3
   },
   "file_extension": ".py",
   "mimetype": "text/x-python",
   "name": "python",
   "nbconvert_exporter": "python",
   "pygments_lexer": "ipython3",
   "version": "3.11.2"
  }
 },
 "nbformat": 4,
 "nbformat_minor": 2
}
